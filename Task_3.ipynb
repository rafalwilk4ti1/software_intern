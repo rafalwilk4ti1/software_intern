{
 "cells": [
  {
   "cell_type": "code",
   "execution_count": 1,
   "id": "ee911f59",
   "metadata": {},
   "outputs": [
    {
     "data": {
      "text/plain": [
       "'\\n\\nTask 3: 120 Years of Olympic History data analysis\\n'"
      ]
     },
     "execution_count": 1,
     "metadata": {},
     "output_type": "execute_result"
    }
   ],
   "source": [
    "\"\"\"\n",
    "\n",
    "Task 3: 120 Years of Olympic History data analysis\n",
    "\"\"\""
   ]
  },
  {
   "cell_type": "code",
   "execution_count": 2,
   "id": "261b2eb3",
   "metadata": {},
   "outputs": [
    {
     "data": {
      "text/plain": [
       "'\\nCreated on Sun. Sep. 05 10:00:00 2021\\n\\n@author rafalwilk4ti1\\n\\n'"
      ]
     },
     "execution_count": 2,
     "metadata": {},
     "output_type": "execute_result"
    }
   ],
   "source": [
    "\"\"\"\n",
    "Created on Sun. Sep. 05 10:00:00 2021\n",
    "\n",
    "@author rafalwilk4ti1\n",
    "\n",
    "\"\"\""
   ]
  },
  {
   "cell_type": "code",
   "execution_count": 3,
   "id": "d3a1eab3",
   "metadata": {},
   "outputs": [],
   "source": [
    "# -*- coding: utf-8 -*-"
   ]
  },
  {
   "cell_type": "code",
   "execution_count": 4,
   "id": "febd3e0f",
   "metadata": {},
   "outputs": [],
   "source": [
    "import pandas as pd\n",
    "import numpy as np\n",
    "from matplotlib import pyplot as plt"
   ]
  },
  {
   "cell_type": "code",
   "execution_count": 5,
   "id": "f2ed88d9",
   "metadata": {},
   "outputs": [],
   "source": [
    "# Loading neccesery files\n",
    "df = pd.read_csv('athlete_events.csv', index_col='ID')\n",
    "athlete_events_data = pd.read_csv('athlete_events_data_dictionary.csv')"
   ]
  },
  {
   "cell_type": "code",
   "execution_count": 6,
   "id": "928589de",
   "metadata": {},
   "outputs": [],
   "source": [
    "pd.set_option('display.max_columns', 15)\n",
    "pd.set_option('display.max_rows', 15)"
   ]
  },
  {
   "cell_type": "code",
   "execution_count": 7,
   "id": "1e6eb273",
   "metadata": {},
   "outputs": [
    {
     "data": {
      "text/html": [
       "<div>\n",
       "<style scoped>\n",
       "    .dataframe tbody tr th:only-of-type {\n",
       "        vertical-align: middle;\n",
       "    }\n",
       "\n",
       "    .dataframe tbody tr th {\n",
       "        vertical-align: top;\n",
       "    }\n",
       "\n",
       "    .dataframe thead th {\n",
       "        text-align: right;\n",
       "    }\n",
       "</style>\n",
       "<table border=\"1\" class=\"dataframe\">\n",
       "  <thead>\n",
       "    <tr style=\"text-align: right;\">\n",
       "      <th></th>\n",
       "      <th>Field</th>\n",
       "      <th>Description</th>\n",
       "    </tr>\n",
       "  </thead>\n",
       "  <tbody>\n",
       "    <tr>\n",
       "      <th>0</th>\n",
       "      <td>ID</td>\n",
       "      <td>Unique number for each athlete</td>\n",
       "    </tr>\n",
       "    <tr>\n",
       "      <th>1</th>\n",
       "      <td>Name</td>\n",
       "      <td>Athlete's name</td>\n",
       "    </tr>\n",
       "    <tr>\n",
       "      <th>2</th>\n",
       "      <td>Sex</td>\n",
       "      <td>Male (M) or Female (F)</td>\n",
       "    </tr>\n",
       "    <tr>\n",
       "      <th>3</th>\n",
       "      <td>Age</td>\n",
       "      <td>Integer</td>\n",
       "    </tr>\n",
       "    <tr>\n",
       "      <th>4</th>\n",
       "      <td>Height</td>\n",
       "      <td>In centimeters</td>\n",
       "    </tr>\n",
       "    <tr>\n",
       "      <th>5</th>\n",
       "      <td>Weight</td>\n",
       "      <td>In kilograms</td>\n",
       "    </tr>\n",
       "    <tr>\n",
       "      <th>6</th>\n",
       "      <td>Team</td>\n",
       "      <td>Team name</td>\n",
       "    </tr>\n",
       "    <tr>\n",
       "      <th>7</th>\n",
       "      <td>NOC</td>\n",
       "      <td>National Olympic Committee 3-letter code</td>\n",
       "    </tr>\n",
       "    <tr>\n",
       "      <th>8</th>\n",
       "      <td>Games</td>\n",
       "      <td>Year and season</td>\n",
       "    </tr>\n",
       "    <tr>\n",
       "      <th>9</th>\n",
       "      <td>Year</td>\n",
       "      <td>Integer</td>\n",
       "    </tr>\n",
       "    <tr>\n",
       "      <th>10</th>\n",
       "      <td>Season</td>\n",
       "      <td>Summer or Winter</td>\n",
       "    </tr>\n",
       "    <tr>\n",
       "      <th>11</th>\n",
       "      <td>City</td>\n",
       "      <td>Host city</td>\n",
       "    </tr>\n",
       "    <tr>\n",
       "      <th>12</th>\n",
       "      <td>Sport</td>\n",
       "      <td>Sport</td>\n",
       "    </tr>\n",
       "    <tr>\n",
       "      <th>13</th>\n",
       "      <td>Event</td>\n",
       "      <td>Event</td>\n",
       "    </tr>\n",
       "    <tr>\n",
       "      <th>14</th>\n",
       "      <td>Medal</td>\n",
       "      <td>Gold, Silver, Bronze, or NA</td>\n",
       "    </tr>\n",
       "  </tbody>\n",
       "</table>\n",
       "</div>"
      ],
      "text/plain": [
       "     Field                               Description\n",
       "0       ID            Unique number for each athlete\n",
       "1     Name                            Athlete's name\n",
       "2      Sex                    Male (M) or Female (F)\n",
       "3      Age                                   Integer\n",
       "4   Height                            In centimeters\n",
       "5   Weight                              In kilograms\n",
       "6     Team                                 Team name\n",
       "7      NOC  National Olympic Committee 3-letter code\n",
       "8    Games                           Year and season\n",
       "9     Year                                   Integer\n",
       "10  Season                          Summer or Winter\n",
       "11    City                                 Host city\n",
       "12   Sport                                     Sport\n",
       "13   Event                                     Event\n",
       "14   Medal               Gold, Silver, Bronze, or NA"
      ]
     },
     "execution_count": 7,
     "metadata": {},
     "output_type": "execute_result"
    }
   ],
   "source": [
    "# loading explanation of columns\n",
    "athlete_events_data "
   ]
  },
  {
   "cell_type": "code",
   "execution_count": 8,
   "id": "7602549f",
   "metadata": {},
   "outputs": [],
   "source": [
    "# Clear data, remove duplicates and sorting value by ID \n",
    "\n",
    "df.dropna(inplace= True)\n",
    "df.sort_values('ID').drop_duplicates(subset=['Name'], keep='last', inplace=True)"
   ]
  },
  {
   "cell_type": "code",
   "execution_count": 9,
   "id": "2344e91b",
   "metadata": {},
   "outputs": [],
   "source": [
    "#######################################################################"
   ]
  },
  {
   "cell_type": "code",
   "execution_count": 10,
   "id": "b5c7b083",
   "metadata": {},
   "outputs": [
    {
     "data": {
      "text/plain": [
       "'\\n\\n# What countries reveive the most medals nowadays? Does it change \\n# much across the timespan?\\n\\n'"
      ]
     },
     "execution_count": 10,
     "metadata": {},
     "output_type": "execute_result"
    }
   ],
   "source": [
    "\"\"\"\n",
    "\n",
    "# What countries reveive the most medals nowadays? Does it change \n",
    "# much across the timespan?\n",
    "\n",
    "\"\"\""
   ]
  },
  {
   "cell_type": "code",
   "execution_count": 11,
   "id": "464411a7",
   "metadata": {},
   "outputs": [
    {
     "data": {
      "text/plain": [
       "2016"
      ]
     },
     "execution_count": 11,
     "metadata": {},
     "output_type": "execute_result"
    }
   ],
   "source": [
    "# Check which year is the highest, what could means 'nowadays'.  \n",
    "df['Year'].max()"
   ]
  },
  {
   "cell_type": "code",
   "execution_count": 12,
   "id": "7c63f7a3",
   "metadata": {},
   "outputs": [],
   "source": [
    "#Create conditional which counutries have the most medals nowadays\n",
    "nowadays_medals = (df['Medal'] != 'Nan') & (df['Year'] == 2016)"
   ]
  },
  {
   "cell_type": "code",
   "execution_count": 13,
   "id": "c012d757",
   "metadata": {},
   "outputs": [
    {
     "data": {
      "text/plain": [
       "United States           255\n",
       "Germany                 157\n",
       "Great Britain           143\n",
       "Russia                  113\n",
       "China                   109\n",
       "                       ... \n",
       "Dominican Republic        1\n",
       "United Arab Emirates      1\n",
       "Philippines               1\n",
       "Grenada                   1\n",
       "Tajikistan                1\n",
       "Name: Team, Length: 98, dtype: int64"
      ]
     },
     "execution_count": 13,
     "metadata": {},
     "output_type": "execute_result"
    }
   ],
   "source": [
    "# Checking which countries have the most number of medals nowadays\n",
    "df.loc[nowadays_medals, 'Team'].value_counts()"
   ]
  },
  {
   "cell_type": "code",
   "execution_count": 14,
   "id": "bea28ce1",
   "metadata": {},
   "outputs": [],
   "source": [
    "timespan_medals = (df['Medal'] != 'Nan')"
   ]
  },
  {
   "cell_type": "code",
   "execution_count": 15,
   "id": "5bb36f01",
   "metadata": {},
   "outputs": [
    {
     "data": {
      "text/plain": [
       "United States                          4273\n",
       "Soviet Union                           2203\n",
       "Germany                                1518\n",
       "Australia                              1196\n",
       "Russia                                 1091\n",
       "                                       ... \n",
       "Jordan                                    1\n",
       "St. Louis Southwest Turnverein #2-3       1\n",
       "Kosovo                                    1\n",
       "Merope III                                1\n",
       "Djibouti                                  1\n",
       "Name: Team, Length: 263, dtype: int64"
      ]
     },
     "execution_count": 15,
     "metadata": {},
     "output_type": "execute_result"
    }
   ],
   "source": [
    "df.loc[timespan_medals, 'Team'].value_counts()"
   ]
  },
  {
   "cell_type": "code",
   "execution_count": 16,
   "id": "eb84da46",
   "metadata": {},
   "outputs": [],
   "source": [
    "# Yes it had changed a little, Australia and Soviet Union don't receive\n",
    "# as much medals as they did, the reason for Soviet Union is obvious,\n",
    "#and their places have been taken by Great Britain and China"
   ]
  },
  {
   "cell_type": "code",
   "execution_count": 17,
   "id": "3a681760",
   "metadata": {},
   "outputs": [],
   "source": [
    "######################################################################"
   ]
  },
  {
   "cell_type": "code",
   "execution_count": 18,
   "id": "1ef11cff",
   "metadata": {},
   "outputs": [
    {
     "data": {
      "text/plain": [
       "'\\n\\n- Who wins the most medals? Women or men? \\n\\n'"
      ]
     },
     "execution_count": 18,
     "metadata": {},
     "output_type": "execute_result"
    }
   ],
   "source": [
    "\"\"\"\n",
    "\n",
    "- Who wins the most medals? Women or men? \n",
    "\n",
    "\"\"\""
   ]
  },
  {
   "cell_type": "code",
   "execution_count": 19,
   "id": "020e6dce",
   "metadata": {},
   "outputs": [],
   "source": [
    "# Condition tells to gives only results where the medal is \n",
    "medal_filt = (df['Medal'] != 'Nan')"
   ]
  },
  {
   "cell_type": "code",
   "execution_count": 20,
   "id": "8cc5e473",
   "metadata": {},
   "outputs": [],
   "source": [
    "# Define variables with people who have the medal only selecting by Sex\n",
    "man_and_women_total_medals = df.loc[medal_filt, 'Sex']"
   ]
  },
  {
   "cell_type": "code",
   "execution_count": 21,
   "id": "7cf71b03",
   "metadata": {},
   "outputs": [
    {
     "data": {
      "text/plain": [
       "M    19831\n",
       "F    10350\n",
       "Name: Sex, dtype: int64"
      ]
     },
     "execution_count": 21,
     "metadata": {},
     "output_type": "execute_result"
    }
   ],
   "source": [
    "# Count which gender has more medals\n",
    "man_and_women_total_medals.value_counts()"
   ]
  },
  {
   "cell_type": "code",
   "execution_count": 22,
   "id": "abc42552",
   "metadata": {},
   "outputs": [],
   "source": [
    "# More medals won men."
   ]
  },
  {
   "cell_type": "code",
   "execution_count": 23,
   "id": "3d31e2f6",
   "metadata": {},
   "outputs": [],
   "source": [
    "######################################################################"
   ]
  },
  {
   "cell_type": "code",
   "execution_count": 24,
   "id": "ce29c4a3",
   "metadata": {},
   "outputs": [
    {
     "data": {
      "text/plain": [
       "\"\\n\\n# What's trend for the number of participants?\\n\\n\""
      ]
     },
     "execution_count": 24,
     "metadata": {},
     "output_type": "execute_result"
    }
   ],
   "source": [
    "\"\"\"\n",
    "\n",
    "# What's trend for the number of participants?\n",
    "\n",
    "\"\"\""
   ]
  },
  {
   "cell_type": "code",
   "execution_count": 25,
   "id": "c9894635",
   "metadata": {},
   "outputs": [],
   "source": [
    "# Firstly, we count the number of results for each year what gives us\n",
    "# the number of participations in each year as well and convert it to \n",
    "# dict type. We do this, because then it is simple to iterate thorugh it\n",
    "# and insert into plot using numpy and matplotlib libraries, that give\n",
    "# us the wanted trend."
   ]
  },
  {
   "cell_type": "code",
   "execution_count": 26,
   "id": "8fe4bbf7",
   "metadata": {},
   "outputs": [],
   "source": [
    "# Count the number of participants for each year, convert into dict and \n",
    "# declare empty lists\n",
    "\n",
    "events_years = df.value_counts('Year')\n",
    "dictionary_events = events_years.to_dict()\n",
    "years_events = []\n",
    "participants = []"
   ]
  },
  {
   "cell_type": "code",
   "execution_count": 27,
   "id": "067529fb",
   "metadata": {},
   "outputs": [],
   "source": [
    "# Iteration through dict to gives as simple list\n",
    "\n",
    "event_years = [year for year in dictionary_events.keys()]\n",
    "participants_number =  [participant for participant in dictionary_events.values()]"
   ]
  },
  {
   "cell_type": "code",
   "execution_count": 28,
   "id": "327f2c22",
   "metadata": {},
   "outputs": [
    {
     "data": {
      "image/png": "[encoded data removed]",
      "text/plain": [
       "<Figure size 432x288 with 1 Axes>"
      ]
     },
     "metadata": {
      "needs_background": "light"
     },
     "output_type": "display_data"
    }
   ],
   "source": [
    "# After that we make a chart to see what's the trend for the number \n",
    "# of participants \n",
    "\n",
    "ypoints = np.array(event_years)\n",
    "xpoints = np.array(participants_number)\n",
    "plt.plot(xpoints, ypoints)\n",
    "plt.show()"
   ]
  },
  {
   "cell_type": "code",
   "execution_count": 29,
   "id": "53f3efa6",
   "metadata": {},
   "outputs": [],
   "source": [
    "# The trend is increasing."
   ]
  },
  {
   "cell_type": "code",
   "execution_count": 30,
   "id": "e091584e",
   "metadata": {},
   "outputs": [],
   "source": [
    "######################################################################"
   ]
  },
  {
   "cell_type": "code",
   "execution_count": 31,
   "id": "efbec98f",
   "metadata": {},
   "outputs": [
    {
     "data": {
      "text/plain": [
       "'\\n\\n# What is the relation between age and medals won\\n\\n'"
      ]
     },
     "execution_count": 31,
     "metadata": {},
     "output_type": "execute_result"
    }
   ],
   "source": [
    "\"\"\"\n",
    "\n",
    "# What is the relation between age and medals won\n",
    "\n",
    "\"\"\""
   ]
  },
  {
   "cell_type": "code",
   "execution_count": 32,
   "id": "fb5910f7",
   "metadata": {},
   "outputs": [],
   "source": [
    "# Define age column and column that satisfy the condition if have a \n",
    "# medal \n",
    "age_column = df['Age']\n",
    "people_with_medals_column = df.loc[medal_filt, \"Medal\"]"
   ]
  },
  {
   "cell_type": "code",
   "execution_count": 33,
   "id": "6ca01438",
   "metadata": {},
   "outputs": [
    {
     "data": {
      "text/plain": [
       "-0.002587651700494077"
      ]
     },
     "execution_count": 33,
     "metadata": {},
     "output_type": "execute_result"
    }
   ],
   "source": [
    "# Firstly we have to convert datatype to categorical and after that use \n",
    "# .corr() function\n",
    "\n",
    "people_with_medals_column = people_with_medals_column.astype('category').cat.codes\n",
    "age_column = age_column.astype('category').cat.codes\n",
    "age_column.corr(people_with_medals_column)"
   ]
  },
  {
   "cell_type": "code",
   "execution_count": 34,
   "id": "7071e4e2",
   "metadata": {},
   "outputs": [
    {
     "data": {
      "text/plain": [
       "-0.002587651700494077"
      ]
     },
     "execution_count": 34,
     "metadata": {},
     "output_type": "execute_result"
    }
   ],
   "source": [
    "people_with_medals_column.corr(age_column)"
   ]
  },
  {
   "cell_type": "code",
   "execution_count": 35,
   "id": "bd2fdbb1",
   "metadata": {},
   "outputs": [],
   "source": [
    "# The relation/correlation is very bad."
   ]
  },
  {
   "cell_type": "code",
   "execution_count": 36,
   "id": "eb6f9f7f",
   "metadata": {},
   "outputs": [],
   "source": [
    "########################################################################"
   ]
  },
  {
   "cell_type": "code",
   "execution_count": 37,
   "id": "383ff3b8",
   "metadata": {
    "scrolled": false
   },
   "outputs": [
    {
     "data": {
      "text/plain": [
       "\"\\n\\n# Do tall people win more medals?\\n\\n# As in the example above as in this case we'll pretend that short is\\n# <= 160 cm, tall is otherwise. \\n\\n\""
      ]
     },
     "execution_count": 37,
     "metadata": {},
     "output_type": "execute_result"
    }
   ],
   "source": [
    "\"\"\"\n",
    "\n",
    "# Do tall people win more medals?\n",
    "\n",
    "# As in the example above as in this case we'll pretend that short is\n",
    "# <= 160 cm, tall is otherwise. \n",
    "\n",
    "\"\"\""
   ]
  },
  {
   "cell_type": "code",
   "execution_count": 38,
   "id": "ba95526a",
   "metadata": {},
   "outputs": [],
   "source": [
    "# We define first condition equal to Medal != 'Nan' and height <= 160\n",
    "# and the second one Medal != 'Nan' and height >= 161\n",
    "short_with_medal_con = (df['Medal'] != 'Nan') & (df['Height'] <=160.0)\n",
    "tall_with_medal_con = (df['Medal'] != 'Nan') & (df['Height'] >= 161.0)"
   ]
  },
  {
   "cell_type": "code",
   "execution_count": 39,
   "id": "5afe075f",
   "metadata": {},
   "outputs": [],
   "source": [
    "#Then we count results for each condition and combine them\n",
    "count_short_with_medal = df.loc[short_with_medal_con, 'Height']\n",
    "count_tall_with_medal = df.loc[tall_with_medal_con, 'Height']"
   ]
  },
  {
   "cell_type": "code",
   "execution_count": 40,
   "id": "d293294e",
   "metadata": {},
   "outputs": [
    {
     "data": {
      "text/plain": [
       "1774"
      ]
     },
     "execution_count": 40,
     "metadata": {},
     "output_type": "execute_result"
    }
   ],
   "source": [
    "count_short_with_medal.count()"
   ]
  },
  {
   "cell_type": "code",
   "execution_count": 41,
   "id": "cc81d0bf",
   "metadata": {},
   "outputs": [
    {
     "data": {
      "text/plain": [
       "28407"
      ]
     },
     "execution_count": 41,
     "metadata": {},
     "output_type": "execute_result"
    }
   ],
   "source": [
    "count_tall_with_medal.count()"
   ]
  },
  {
   "cell_type": "code",
   "execution_count": 42,
   "id": "7b4d9e63",
   "metadata": {},
   "outputs": [
    {
     "data": {
      "text/plain": [
       "30181"
      ]
     },
     "execution_count": 42,
     "metadata": {},
     "output_type": "execute_result"
    }
   ],
   "source": [
    "df.loc[medal_filt, 'Medal'].count() # Checking if the results is believable"
   ]
  },
  {
   "cell_type": "code",
   "execution_count": 43,
   "id": "3dca1c6c",
   "metadata": {},
   "outputs": [],
   "source": [
    "########################################################################"
   ]
  },
  {
   "cell_type": "code",
   "execution_count": 44,
   "id": "2fcf243b",
   "metadata": {},
   "outputs": [
    {
     "data": {
      "text/plain": [
       "\"\\n\\n# Which sports are dominated by short people? (You must define 'short')\\n     my example short will be < 160 cm\\n\\n\""
      ]
     },
     "execution_count": 44,
     "metadata": {},
     "output_type": "execute_result"
    }
   ],
   "source": [
    "\"\"\"\n",
    "\n",
    "# Which sports are dominated by short people? (You must define 'short')\n",
    "     my example short will be < 160 cm\n",
    "\n",
    "\"\"\""
   ]
  },
  {
   "cell_type": "code",
   "execution_count": 45,
   "id": "5c22f8d9",
   "metadata": {},
   "outputs": [],
   "source": [
    "# Define condition that tells who is short and has a medal"
   ]
  },
  {
   "cell_type": "code",
   "execution_count": 46,
   "id": "2281cb63",
   "metadata": {},
   "outputs": [],
   "source": [
    "short_and_medal_condition = (df['Height'] <= 160.0) & (df['Medal'] != 'Nan') "
   ]
  },
  {
   "cell_type": "code",
   "execution_count": 47,
   "id": "4b3e35f0",
   "metadata": {},
   "outputs": [],
   "source": [
    "# Created table where we get sports, attended by people who matched \n",
    "# our condition"
   ]
  },
  {
   "cell_type": "code",
   "execution_count": 48,
   "id": "0e2ac376",
   "metadata": {},
   "outputs": [],
   "source": [
    "sports_with_short_people = df.loc[short_and_medal_condition, 'Sport']"
   ]
  },
  {
   "cell_type": "code",
   "execution_count": 49,
   "id": "b6302962",
   "metadata": {},
   "outputs": [],
   "source": [
    "# Count the results which sport is dominated - "
   ]
  },
  {
   "cell_type": "code",
   "execution_count": 50,
   "id": "2d5c043e",
   "metadata": {},
   "outputs": [
    {
     "data": {
      "text/plain": [
       "Gymnastics           492\n",
       "Weightlifting        162\n",
       "Wrestling            138\n",
       "Athletics            121\n",
       "Diving                89\n",
       "                    ... \n",
       "Rugby Sevens           2\n",
       "Bobsleigh              1\n",
       "Skeleton               1\n",
       "Luge                   1\n",
       "Modern Pentathlon      1\n",
       "Name: Sport, Length: 42, dtype: int64"
      ]
     },
     "execution_count": 50,
     "metadata": {},
     "output_type": "execute_result"
    }
   ],
   "source": [
    "sports_with_short_people.value_counts()"
   ]
  },
  {
   "cell_type": "code",
   "execution_count": 51,
   "id": "47689b29",
   "metadata": {},
   "outputs": [],
   "source": [
    "# The sport dominated by short people is Gimnastics."
   ]
  },
  {
   "cell_type": "code",
   "execution_count": 52,
   "id": "88d54b62",
   "metadata": {},
   "outputs": [],
   "source": [
    "######################################################################"
   ]
  },
  {
   "cell_type": "code",
   "execution_count": 53,
   "id": "46a647ba",
   "metadata": {},
   "outputs": [
    {
     "data": {
      "text/plain": [
       "'\\n\\n# Which families (same surname) win the most medals?\\n\\n'"
      ]
     },
     "execution_count": 53,
     "metadata": {},
     "output_type": "execute_result"
    }
   ],
   "source": [
    "\"\"\"\n",
    "\n",
    "# Which families (same surname) win the most medals?\n",
    "\n",
    "\"\"\""
   ]
  },
  {
   "cell_type": "code",
   "execution_count": 54,
   "id": "0e2434b8",
   "metadata": {},
   "outputs": [],
   "source": [
    "# First of all we need to divide column 'Name' into two new columns \n",
    "# called 'First_name' and 'Surname', then count how many medals are \n",
    "# for surname. We assume that only first word is a name."
   ]
  },
  {
   "cell_type": "code",
   "execution_count": 55,
   "id": "84f2e866",
   "metadata": {},
   "outputs": [],
   "source": [
    "#Creating 2 seperated columns\n",
    "df3 = df['Name'].str.split(n=1, expand=True)"
   ]
  },
  {
   "cell_type": "code",
   "execution_count": 56,
   "id": "6e8e00ed",
   "metadata": {},
   "outputs": [],
   "source": [
    "# Adding columns\n",
    "df['First_name'] = df3[0]\n",
    "df['Surname'] = df3[1]"
   ]
  },
  {
   "cell_type": "code",
   "execution_count": 57,
   "id": "4f057fe6",
   "metadata": {},
   "outputs": [
    {
     "data": {
      "text/plain": [
       "Fred Phelps, II         28\n",
       "Kovcs                   26\n",
       "Fischer                 24\n",
       "Mller                   22\n",
       "Yang                    22\n",
       "                        ..\n",
       "Alexander Tinker         1\n",
       "Andr Laperrire           1\n",
       "Yuryevich Bagdasarov     1\n",
       "Mnchow (-Klose-)         1\n",
       "Yueming                  1\n",
       "Name: Surname, Length: 19388, dtype: int64"
      ]
     },
     "execution_count": 57,
     "metadata": {},
     "output_type": "execute_result"
    }
   ],
   "source": [
    "# Count how many medals fall under each surname\n",
    "df.loc[medal_filt, 'Surname'].value_counts()"
   ]
  },
  {
   "cell_type": "code",
   "execution_count": 58,
   "id": "cb4029d4",
   "metadata": {},
   "outputs": [
    {
     "name": "stdout",
     "output_type": "stream",
     "text": [
      "Michael Fred Phelps, II\n",
      "Michael Fred Phelps, II\n",
      "Michael Fred Phelps, II\n",
      "Michael Fred Phelps, II\n",
      "Michael Fred Phelps, II\n",
      "Michael Fred Phelps, II\n",
      "Michael Fred Phelps, II\n",
      "Michael Fred Phelps, II\n",
      "Michael Fred Phelps, II\n",
      "Michael Fred Phelps, II\n",
      "Michael Fred Phelps, II\n",
      "Michael Fred Phelps, II\n",
      "Michael Fred Phelps, II\n",
      "Michael Fred Phelps, II\n",
      "Michael Fred Phelps, II\n",
      "Michael Fred Phelps, II\n",
      "Michael Fred Phelps, II\n",
      "Michael Fred Phelps, II\n",
      "Michael Fred Phelps, II\n",
      "Michael Fred Phelps, II\n",
      "Michael Fred Phelps, II\n",
      "Michael Fred Phelps, II\n",
      "Michael Fred Phelps, II\n",
      "Michael Fred Phelps, II\n",
      "Michael Fred Phelps, II\n",
      "Michael Fred Phelps, II\n",
      "Michael Fred Phelps, II\n",
      "Michael Fred Phelps, II\n"
     ]
    }
   ],
   "source": [
    "# Using this method we can't be for 100% sure that is really True, \n",
    "# because as like in this case it return only one person. \n",
    "\n",
    "for x in list(df['Name']):\n",
    "    if 'Fred Phelps, II' in x:\n",
    "        print(x)\n",
    "        \n",
    "# Considering this I don't think this will be acknowledge as a family\n",
    "# because it is only one member, so my answer is: \n",
    "# Families with the most medals is Kovcs"
   ]
  },
  {
   "cell_type": "code",
   "execution_count": 59,
   "id": "02a267d2",
   "metadata": {},
   "outputs": [],
   "source": [
    "########################################################################"
   ]
  },
  {
   "cell_type": "code",
   "execution_count": 61,
   "id": "27839400",
   "metadata": {},
   "outputs": [
    {
     "data": {
      "text/plain": [
       "'\\n######### SUMMARY #########\\n\\nEvery aims were achieved. We got each answer for each question. Using \\npandas, numpy and matplotlib libraries, because they are very helpful\\nanalysing data sets. Each subtask has its own comments and explanations\\nto show my way of thinking.\\n\\n############################\\n\\n'"
      ]
     },
     "execution_count": 61,
     "metadata": {},
     "output_type": "execute_result"
    }
   ],
   "source": [
    "\"\"\"\n",
    "######### SUMMARY #########\n",
    "\n",
    "Every aims were achieved. We got each answer for each question. Using \n",
    "pandas, numpy and matplotlib libraries, because they are very helpful\n",
    "analysing data sets. Each subtask has its own comments and explanations\n",
    "to show my way of thinking.\n",
    "\n",
    "############################\n",
    "\n",
    "\"\"\""
   ]
  },
  {
   "cell_type": "code",
   "execution_count": null,
   "id": "36edd137",
   "metadata": {},
   "outputs": [],
   "source": []
  }
 ],
 "metadata": {
  "kernelspec": {
   "display_name": "Python 3",
   "language": "python",
   "name": "python3"
  },
  "language_info": {
   "codemirror_mode": {
    "name": "ipython",
    "version": 3
   },
   "file_extension": ".py",
   "mimetype": "text/x-python",
   "name": "python",
   "nbconvert_exporter": "python",
   "pygments_lexer": "ipython3",
   "version": "3.8.10"
  }
 },
 "nbformat": 4,
 "nbformat_minor": 5
}
